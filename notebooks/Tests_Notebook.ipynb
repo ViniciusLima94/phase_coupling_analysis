{
 "cells": [
  {
   "cell_type": "code",
   "execution_count": null,
   "id": "f4ff68b2-3377-4ea2-ba6b-e93dabb63b5c",
   "metadata": {},
   "outputs": [],
   "source": []
  },
  {
   "cell_type": "code",
   "execution_count": 1,
   "id": "184e5817-8c26-4f60-8295-62e3237ec0b9",
   "metadata": {},
   "outputs": [],
   "source": [
    "import sys\n",
    "\n",
    "sys.path.insert(1, \"/home/vinicius/storage1/projects/phase_coupling_analysis\")"
   ]
  },
  {
   "cell_type": "code",
   "execution_count": 2,
   "id": "265b0081-a280-450e-b123-31533adf674d",
   "metadata": {},
   "outputs": [],
   "source": [
    "import argparse\n",
    "import os\n",
    "\n",
    "import matplotlib.pyplot as plt\n",
    "import numpy as np\n",
    "import scipy\n",
    "import xarray as xr\n",
    "from config import bands, freqs\n",
    "from mne.filter import filter_data\n",
    "from src.metrics.phase import hilbert_decomposition\n",
    "from src.util import get_dates\n",
    "from tqdm import tqdm\n",
    "from util import load_session_data"
   ]
  },
  {
   "cell_type": "markdown",
   "id": "737458f4-adda-4e0d-9764-b8f13bd84255",
   "metadata": {},
   "source": [
    "#### Config"
   ]
  },
  {
   "cell_type": "code",
   "execution_count": 3,
   "id": "9837e625-1e49-479c-a3d2-952fba6bda82",
   "metadata": {},
   "outputs": [],
   "source": [
    "band_id = 0"
   ]
  },
  {
   "cell_type": "markdown",
   "id": "fa55c6ef-13de-43a6-a31b-7daef931ce89",
   "metadata": {},
   "source": [
    "#### Loading data"
   ]
  },
  {
   "cell_type": "code",
   "execution_count": 4,
   "id": "e5c0a73d-c34e-4662-868c-546ea5c75744",
   "metadata": {},
   "outputs": [],
   "source": [
    "data = xr.load_dataarray(\"data/test_data.nc\")"
   ]
  },
  {
   "cell_type": "code",
   "execution_count": 5,
   "id": "e8bd01e4-c46b-4ce4-a555-46f922b64e73",
   "metadata": {},
   "outputs": [],
   "source": [
    "count = 0\n",
    "\n",
    "\n",
    "def shuffle_along_axis(a, axis):\n",
    "    idx = np.random.rand(*a.shape).argsort(axis=axis)\n",
    "    return np.take_along_axis(a, idx, axis=axis)\n",
    "\n",
    "\n",
    "def create_generalized_surrogate(data, n_boot):\n",
    "    count = 0\n",
    "    trials_surr = []\n",
    "    while count < n_boot:\n",
    "        out = np.random.choice(\n",
    "            range(data.sizes[\"trials\"]),\n",
    "            size=2,\n",
    "            replace=True,\n",
    "        )\n",
    "\n",
    "        if out[0] == out[1]:\n",
    "            continue\n",
    "        else:\n",
    "            trials_surr += [out]\n",
    "            count = count + 1\n",
    "    trials_surr = np.stack(trials_surr)\n",
    "\n",
    "    count = 0\n",
    "    channels_surr = []\n",
    "    while count < n_boot:\n",
    "        out = np.random.choice(\n",
    "            range(data.sizes[\"roi\"]),\n",
    "            size=2,\n",
    "            replace=True,\n",
    "        )\n",
    "\n",
    "        if out[0] == out[1]:\n",
    "            continue\n",
    "        else:\n",
    "            channels_surr += [out]\n",
    "            count = count + 1\n",
    "    channels_surr = np.stack(channels_surr)\n",
    "\n",
    "    data_surr = []\n",
    "    for c_i, c_j, trial_i, trial_j in np.concatenate(\n",
    "        (channels_surr, trials_surr), axis=1\n",
    "    ):\n",
    "        x = data[trial_i, c_i]\n",
    "        y = data[trial_j, c_j][..., ::-1]\n",
    "        data_surr += [np.stack((x, y))]\n",
    "\n",
    "    data_surr = np.stack(data_surr)\n",
    "\n",
    "    data_surr = xr.DataArray(\n",
    "        data_surr, dims=(\"trials\", \"roi\", \"times\"), coords={\"times\": data.time.values}\n",
    "    )\n",
    "\n",
    "    return data_surr"
   ]
  },
  {
   "cell_type": "code",
   "execution_count": 6,
   "id": "93ed6b06-bb90-4cbb-b703-d24f05534e3d",
   "metadata": {},
   "outputs": [
    {
     "name": "stderr",
     "output_type": "stream",
     "text": [
      "100%|████████████████████████████████████████████████████████| 20/20 [00:03<00:00,  6.01it/s]\n"
     ]
    }
   ],
   "source": [
    "data_surr = [\n",
    "    create_generalized_surrogate(data, data.sizes[\"trials\"]) for i in tqdm(range(20))\n",
    "]"
   ]
  },
  {
   "cell_type": "markdown",
   "id": "202488b1-b885-4cd4-84b1-f3ebc64e8283",
   "metadata": {},
   "source": [
    "### Filter data"
   ]
  },
  {
   "cell_type": "code",
   "execution_count": 7,
   "id": "bfdd3a6e-bcf5-4fb5-a0e7-e86a1eda7bd0",
   "metadata": {},
   "outputs": [],
   "source": [
    "temp = []\n",
    "\n",
    "for f_l, f_h in bands:\n",
    "    temp += [filter_data(data.values, data.fsample, f_l, f_h, n_jobs=1, verbose=False)]\n",
    "\n",
    "temp = np.stack(temp, 2)\n",
    "\n",
    "data = xr.DataArray(\n",
    "    temp,\n",
    "    dims=(\"trials\", \"roi\", \"freqs\", \"times\"),\n",
    "    coords={\n",
    "        \"trials\": data.trials,\n",
    "        \"roi\": data.roi,\n",
    "        \"freqs\": freqs,\n",
    "        \"times\": data.time.values,\n",
    "    },\n",
    "    attrs=data.attrs,\n",
    ")"
   ]
  },
  {
   "cell_type": "code",
   "execution_count": 8,
   "id": "af834375-78ff-47d9-8faa-494e919534e3",
   "metadata": {},
   "outputs": [
    {
     "name": "stderr",
     "output_type": "stream",
     "text": [
      "100%|████████████████████████████████████████████████████████| 20/20 [00:34<00:00,  1.70s/it]\n"
     ]
    }
   ],
   "source": [
    "data_surr_filt = []\n",
    "\n",
    "for data_surr_ in tqdm(data_surr):\n",
    "\n",
    "    temp = []\n",
    "\n",
    "    for f_l, f_h in bands:\n",
    "        temp += [\n",
    "            filter_data(\n",
    "                data_surr_.values, data.fsample, f_l, f_h, n_jobs=1, verbose=False\n",
    "            )\n",
    "        ]\n",
    "\n",
    "    temp = np.stack(temp, 2)\n",
    "\n",
    "    data_surr_filt += [\n",
    "        xr.DataArray(\n",
    "            temp,\n",
    "            dims=(\"trials\", \"roi\", \"freqs\", \"times\"),\n",
    "            coords={\n",
    "                \"trials\": data_surr_.trials,\n",
    "                \"roi\": data_surr_.roi,\n",
    "                \"freqs\": freqs,\n",
    "                \"times\": data_surr_.times.values,\n",
    "            },\n",
    "            attrs=data.attrs,\n",
    "        )\n",
    "    ]"
   ]
  },
  {
   "cell_type": "markdown",
   "id": "f5c56fdc-23e5-470c-b5d3-5e665f6d5b5b",
   "metadata": {},
   "source": [
    "### Compute phase differences"
   ]
  },
  {
   "cell_type": "code",
   "execution_count": 9,
   "id": "910b5a67-0580-4c5b-9303-9f48c9ee9513",
   "metadata": {},
   "outputs": [
    {
     "name": "stderr",
     "output_type": "stream",
     "text": [
      "Defining links (n_roi=2; directed=False; net=False, nb_min_links=None)\n",
      "    Sorting roi names\n",
      "Computing pairwise phase difference (n_pairs=1)\n",
      "/home/vinicius/anaconda3/envs/test_env/lib/python3.11/site-packages/tqdm/auto.py:21: TqdmWarning: IProgress not found. Please update jupyter and ipywidgets. See https://ipywidgets.readthedocs.io/en/stable/user_install.html\n",
      "  from .autonotebook import tqdm as notebook_tqdm\n",
      "100%|█████████████████████████████████████████████████████|  : 1/1 [00:00<00:00,    3.30it/s]\n"
     ]
    }
   ],
   "source": [
    "_dims = (\"trials\", \"roi\", \"freqs\", \"times\")\n",
    "\n",
    "# for s in range(epoch_data.sizes[\"epochs\"]):\n",
    "power, phase, phase_diff = hilbert_decomposition(\n",
    "    data,\n",
    "    sfreq=data.fsample,\n",
    "    decim=1,\n",
    "    times=\"times\",\n",
    "    roi=\"roi\",\n",
    "    n_jobs=1,\n",
    "    verbose=None,\n",
    ")\n",
    "\n",
    "power = power.transpose(*_dims)\n",
    "phase = phase.transpose(*_dims)\n",
    "phase_diff = phase_diff.transpose(*_dims)"
   ]
  },
  {
   "cell_type": "code",
   "execution_count": 12,
   "id": "6837d86c-f734-4b8a-9cf8-f31d0871f255",
   "metadata": {},
   "outputs": [
    {
     "name": "stderr",
     "output_type": "stream",
     "text": [
      "  0%|                                                                 | 0/20 [00:00<?, ?it/s]Defining links (n_roi=2; directed=False; net=False, nb_min_links=None)\n",
      "    Sorting roi names\n",
      "Computing pairwise phase difference (n_pairs=1)\n",
      "\n",
      "  0%|                                                         |  : 0/1 [00:00<?,       ?it/s]\u001b[A\n",
      "100%|█████████████████████████████████████████████████████|  : 1/1 [00:00<00:00,    3.49it/s]\u001b[A\n",
      "  5%|██▊                                                      | 1/20 [00:01<00:27,  1.44s/it]Defining links (n_roi=2; directed=False; net=False, nb_min_links=None)\n",
      "    Sorting roi names\n",
      "Computing pairwise phase difference (n_pairs=1)\n",
      "\n",
      "  0%|                                                         |  : 0/1 [00:00<?,       ?it/s]\u001b[A\n",
      "100%|█████████████████████████████████████████████████████|  : 1/1 [00:00<00:00,    3.24it/s]\u001b[A\n",
      " 10%|█████▋                                                   | 2/20 [00:02<00:26,  1.45s/it]Defining links (n_roi=2; directed=False; net=False, nb_min_links=None)\n",
      "    Sorting roi names\n",
      "Computing pairwise phase difference (n_pairs=1)\n",
      "\n",
      "  0%|                                                         |  : 0/1 [00:00<?,       ?it/s]\u001b[A\n",
      "100%|█████████████████████████████████████████████████████|  : 1/1 [00:00<00:00,    3.12it/s]\u001b[A\n",
      " 15%|████████▌                                                | 3/20 [00:04<00:25,  1.50s/it]Defining links (n_roi=2; directed=False; net=False, nb_min_links=None)\n",
      "    Sorting roi names\n",
      "Computing pairwise phase difference (n_pairs=1)\n",
      "\n",
      "  0%|                                                         |  : 0/1 [00:00<?,       ?it/s]\u001b[A\n",
      "100%|█████████████████████████████████████████████████████|  : 1/1 [00:00<00:00,    3.20it/s]\u001b[A\n",
      " 20%|███████████▍                                             | 4/20 [00:05<00:23,  1.48s/it]Defining links (n_roi=2; directed=False; net=False, nb_min_links=None)\n",
      "    Sorting roi names\n",
      "Computing pairwise phase difference (n_pairs=1)\n",
      "\n",
      "  0%|                                                         |  : 0/1 [00:00<?,       ?it/s]\u001b[A\n",
      "100%|█████████████████████████████████████████████████████|  : 1/1 [00:00<00:00,    3.22it/s]\u001b[A\n",
      " 25%|██████████████▎                                          | 5/20 [00:07<00:22,  1.48s/it]Defining links (n_roi=2; directed=False; net=False, nb_min_links=None)\n",
      "    Sorting roi names\n",
      "Computing pairwise phase difference (n_pairs=1)\n",
      "\n",
      "  0%|                                                         |  : 0/1 [00:00<?,       ?it/s]\u001b[A\n",
      "100%|█████████████████████████████████████████████████████|  : 1/1 [00:00<00:00,    3.24it/s]\u001b[A\n",
      " 30%|█████████████████                                        | 6/20 [00:08<00:20,  1.48s/it]Defining links (n_roi=2; directed=False; net=False, nb_min_links=None)\n",
      "    Sorting roi names\n",
      "Computing pairwise phase difference (n_pairs=1)\n",
      "\n",
      "  0%|                                                         |  : 0/1 [00:00<?,       ?it/s]\u001b[A\n",
      "100%|█████████████████████████████████████████████████████|  : 1/1 [00:00<00:00,    2.74it/s]\u001b[A\n",
      " 35%|███████████████████▉                                     | 7/20 [00:10<00:20,  1.55s/it]Defining links (n_roi=2; directed=False; net=False, nb_min_links=None)\n",
      "    Sorting roi names\n",
      "Computing pairwise phase difference (n_pairs=1)\n",
      "\n",
      "  0%|                                                         |  : 0/1 [00:00<?,       ?it/s]\u001b[A\n",
      "100%|█████████████████████████████████████████████████████|  : 1/1 [00:00<00:00,    2.88it/s]\u001b[A\n",
      " 40%|██████████████████████▊                                  | 8/20 [00:12<00:18,  1.55s/it]Defining links (n_roi=2; directed=False; net=False, nb_min_links=None)\n",
      "    Sorting roi names\n",
      "Computing pairwise phase difference (n_pairs=1)\n",
      "\n",
      "  0%|                                                         |  : 0/1 [00:00<?,       ?it/s]\u001b[A\n",
      "100%|█████████████████████████████████████████████████████|  : 1/1 [00:00<00:00,    2.91it/s]\u001b[A\n",
      " 45%|█████████████████████████▋                               | 9/20 [00:13<00:17,  1.56s/it]Defining links (n_roi=2; directed=False; net=False, nb_min_links=None)\n",
      "    Sorting roi names\n",
      "Computing pairwise phase difference (n_pairs=1)\n",
      "\n",
      "  0%|                                                         |  : 0/1 [00:00<?,       ?it/s]\u001b[A\n",
      "100%|█████████████████████████████████████████████████████|  : 1/1 [00:00<00:00,    3.13it/s]\u001b[A\n",
      " 50%|████████████████████████████                            | 10/20 [00:15<00:15,  1.58s/it]Defining links (n_roi=2; directed=False; net=False, nb_min_links=None)\n",
      "    Sorting roi names\n",
      "Computing pairwise phase difference (n_pairs=1)\n",
      "\n",
      "  0%|                                                         |  : 0/1 [00:00<?,       ?it/s]\u001b[A\n",
      "100%|█████████████████████████████████████████████████████|  : 1/1 [00:00<00:00,    3.30it/s]\u001b[A\n",
      " 55%|██████████████████████████████▊                         | 11/20 [00:16<00:13,  1.54s/it]Defining links (n_roi=2; directed=False; net=False, nb_min_links=None)\n",
      "    Sorting roi names\n",
      "Computing pairwise phase difference (n_pairs=1)\n",
      "\n",
      "  0%|                                                         |  : 0/1 [00:00<?,       ?it/s]\u001b[A\n",
      "100%|█████████████████████████████████████████████████████|  : 1/1 [00:00<00:00,    3.04it/s]\u001b[A\n",
      " 60%|█████████████████████████████████▌                      | 12/20 [00:18<00:12,  1.56s/it]Defining links (n_roi=2; directed=False; net=False, nb_min_links=None)\n",
      "    Sorting roi names\n",
      "Computing pairwise phase difference (n_pairs=1)\n",
      "\n",
      "  0%|                                                         |  : 0/1 [00:00<?,       ?it/s]\u001b[A\n",
      "100%|█████████████████████████████████████████████████████|  : 1/1 [00:00<00:00,    2.96it/s]\u001b[A\n",
      " 65%|████████████████████████████████████▍                   | 13/20 [00:20<00:11,  1.58s/it]Defining links (n_roi=2; directed=False; net=False, nb_min_links=None)\n",
      "    Sorting roi names\n",
      "Computing pairwise phase difference (n_pairs=1)\n",
      "\n",
      "  0%|                                                         |  : 0/1 [00:00<?,       ?it/s]\u001b[A\n",
      "100%|█████████████████████████████████████████████████████|  : 1/1 [00:00<00:00,    3.03it/s]\u001b[A\n",
      " 70%|███████████████████████████████████████▏                | 14/20 [00:21<00:09,  1.56s/it]Defining links (n_roi=2; directed=False; net=False, nb_min_links=None)\n",
      "    Sorting roi names\n",
      "Computing pairwise phase difference (n_pairs=1)\n",
      "\n",
      "  0%|                                                         |  : 0/1 [00:00<?,       ?it/s]\u001b[A\n",
      "100%|█████████████████████████████████████████████████████|  : 1/1 [00:00<00:00,    3.33it/s]\u001b[A\n",
      " 75%|██████████████████████████████████████████              | 15/20 [00:22<00:07,  1.52s/it]Defining links (n_roi=2; directed=False; net=False, nb_min_links=None)\n",
      "    Sorting roi names\n",
      "Computing pairwise phase difference (n_pairs=1)\n",
      "\n",
      "  0%|                                                         |  : 0/1 [00:00<?,       ?it/s]\u001b[A\n",
      "100%|█████████████████████████████████████████████████████|  : 1/1 [00:00<00:00,    2.85it/s]\u001b[A\n",
      " 80%|████████████████████████████████████████████▊           | 16/20 [00:24<00:06,  1.52s/it]Defining links (n_roi=2; directed=False; net=False, nb_min_links=None)\n",
      "    Sorting roi names\n",
      "Computing pairwise phase difference (n_pairs=1)\n",
      "\n",
      "  0%|                                                         |  : 0/1 [00:00<?,       ?it/s]\u001b[A\n",
      "100%|█████████████████████████████████████████████████████|  : 1/1 [00:00<00:00,    3.33it/s]\u001b[A\n",
      " 85%|███████████████████████████████████████████████▌        | 17/20 [00:25<00:04,  1.48s/it]Defining links (n_roi=2; directed=False; net=False, nb_min_links=None)\n",
      "    Sorting roi names\n",
      "Computing pairwise phase difference (n_pairs=1)\n",
      "\n",
      "  0%|                                                         |  : 0/1 [00:00<?,       ?it/s]\u001b[A\n",
      "100%|█████████████████████████████████████████████████████|  : 1/1 [00:00<00:00,    3.30it/s]\u001b[A\n",
      " 90%|██████████████████████████████████████████████████▍     | 18/20 [00:27<00:02,  1.46s/it]Defining links (n_roi=2; directed=False; net=False, nb_min_links=None)\n",
      "    Sorting roi names\n",
      "Computing pairwise phase difference (n_pairs=1)\n",
      "\n",
      "  0%|                                                         |  : 0/1 [00:00<?,       ?it/s]\u001b[A\n",
      "100%|█████████████████████████████████████████████████████|  : 1/1 [00:00<00:00,    3.31it/s]\u001b[A\n",
      " 95%|█████████████████████████████████████████████████████▏  | 19/20 [00:28<00:01,  1.44s/it]Defining links (n_roi=2; directed=False; net=False, nb_min_links=None)\n",
      "    Sorting roi names\n",
      "Computing pairwise phase difference (n_pairs=1)\n",
      "\n",
      "  0%|                                                         |  : 0/1 [00:00<?,       ?it/s]\u001b[A\n",
      "100%|█████████████████████████████████████████████████████|  : 1/1 [00:00<00:00,    3.38it/s]\u001b[A\n",
      "100%|████████████████████████████████████████████████████████| 20/20 [00:30<00:00,  1.51s/it]\n"
     ]
    }
   ],
   "source": [
    "_dims = (\"trials\", \"roi\", \"freqs\", \"times\")\n",
    "\n",
    "phase_std_surr = []\n",
    "\n",
    "for data_surr_ in tqdm(data_surr_filt):\n",
    "\n",
    "    # for s in range(epoch_data.sizes[\"epochs\"]):\n",
    "    _, _, phase_diff_surr = hilbert_decomposition(\n",
    "        data_surr_,\n",
    "        sfreq=data.fsample,\n",
    "        decim=1,\n",
    "        times=\"times\",\n",
    "        roi=\"roi\",\n",
    "        n_jobs=1,\n",
    "        verbose=False,\n",
    "    )\n",
    "    \n",
    "    phase_diff_surr = phase_diff_surr.transpose(*_dims)\n",
    "\n",
    "    phase_std_surr += [ scipy.stats.circstd(phase_diff_surr, axis=(0, 1, 3)) * 180 / np.pi ]"
   ]
  },
  {
   "cell_type": "code",
   "execution_count": 14,
   "id": "752d760b-ecc3-453d-95c5-b72d8da17898",
   "metadata": {},
   "outputs": [],
   "source": [
    "phase_std = scipy.stats.circstd(phase_diff, axis=(0, 1, 3)) * 180 / np.pi\n",
    "#phase_std_surr = scipy.stats.circstd(phase_diff_surr, axis=(0, 1, 3)) * 180 / np.pi"
   ]
  },
  {
   "cell_type": "code",
   "execution_count": 22,
   "id": "2d5fb934-478c-417e-8cc9-2b9f35b6f62b",
   "metadata": {},
   "outputs": [
    {
     "data": {
      "text/plain": [
       "Text(0.5, 0, 'Frequency [Hz]')"
      ]
     },
     "execution_count": 22,
     "metadata": {},
     "output_type": "execute_result"
    },
    {
     "data": {
      "image/png": "[encoded data removed]",
      "text/plain": [
       "<Figure size 640x480 with 1 Axes>"
      ]
     },
     "metadata": {},
     "output_type": "display_data"
    }
   ],
   "source": [
    "plt.plot(freqs, phase_std)\n",
    "plt.fill_between(freqs, np.quantile(phase_std_surr, .05, 0), np.quantile(phase_std_surr, .95, 0), alpha=.3, color=\"lightgray\")\n",
    "\n",
    "plt.ylabel(\"Phase Variance [°]\")\n",
    "plt.xlabel(\"Frequency [Hz]\")"
   ]
  },
  {
   "cell_type": "code",
   "execution_count": null,
   "id": "5bc4cdfb-a0a7-4ea7-94aa-b6acdc0b6475",
   "metadata": {},
   "outputs": [],
   "source": []
  }
 ],
 "metadata": {
  "kernelspec": {
   "display_name": "Python 3 (ipykernel)",
   "language": "python",
   "name": "python3"
  },
  "language_info": {
   "codemirror_mode": {
    "name": "ipython",
    "version": 3
   },
   "file_extension": ".py",
   "mimetype": "text/x-python",
   "name": "python",
   "nbconvert_exporter": "python",
   "pygments_lexer": "ipython3",
   "version": "3.11.10"
  }
 },
 "nbformat": 4,
 "nbformat_minor": 5
}
